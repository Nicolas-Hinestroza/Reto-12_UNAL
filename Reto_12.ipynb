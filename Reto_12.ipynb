{
 "cells": [
  {
   "cell_type": "code",
   "execution_count": 81,
   "metadata": {},
   "outputs": [
    {
     "name": "stdout",
     "output_type": "stream",
     "text": [
      "La cantidad de vocales en el texto es: 22450\n"
     ]
    }
   ],
   "source": [
    "# 1. Cantidad de vocales\n",
    "with open(\"Texto.txt\", 'r') as archivo: # Definimos el archivo a abrir\n",
    "    contenido = archivo.read() # se lee el texto \n",
    "\n",
    "def contar_vocales(texto): # Definimos la funcion con la variable texto\n",
    "    vocales = 'a','e','i','o','u','A','E','I','O','U'  # Escribimos las vocales en minúsculas y mayusculas\n",
    "    contador = 0 # se inicia el recuento\n",
    "    for letras in texto:  # se buscan los digitos \n",
    "        if letras in vocales: # Si letras esta en vocales entonces haga\n",
    "            contador += 1 # Sumarle 1 al contador\n",
    "    return contador # Nos devuelve el resultado\n",
    "\n",
    "cantidad = contar_vocales(contenido)  # definimos la variable cantidad como el resultado de la funcion\n",
    "print(\"La cantidad de vocales en el texto es: {}\".format(cantidad)) # se imprime el resultado\n"
   ]
  },
  {
   "cell_type": "code",
   "execution_count": 80,
   "metadata": {},
   "outputs": [
    {
     "name": "stdout",
     "output_type": "stream",
     "text": [
      "La cantidad de vocales en el texto es: 36063\n"
     ]
    }
   ],
   "source": [
    "# 2. Cantidad de consonantes\n",
    "with open(\"Texto.txt\", 'r') as archivo: # Definimos el archivo a abrir\n",
    "    contenido = archivo.read() # se lee el texto \n",
    "\n",
    "def contar_Consonantes(texto):# Definimos la funcion con la variable texto\n",
    "    vocales = 'a','e','i','o','u','A','E','I','O','U'  # Escribimos las vocales en minúsculas y mayusculas\n",
    "    contador = 0 # se inicia el recuento\n",
    "    for letras in texto:  # se buscan los digitos \n",
    "        if letras.isalpha() and letras not in vocales: # Si letyras es un caracter alfabetico y no pertenece a vocales entonces haga\n",
    "            contador += 1 # Sumarle 1 al contador\n",
    "    return contador # Nos devuelve el resultado\n",
    "\n",
    "cantidad = contar_Consonantes(contenido)  # definimos la variable cantidad como el resultado de la funcion\n",
    "print(\"La cantidad de vocales en el texto es: {}\".format(cantidad)) # se imprime el resultado"
   ]
  },
  {
   "cell_type": "code",
   "execution_count": 79,
   "metadata": {},
   "outputs": [
    {
     "name": "stdout",
     "output_type": "stream",
     "text": [
      "Listado de las 50 palabras más repetidas:\n",
      "#1. La palabra edu: aparecio 461 veces\n",
      "#2. La palabra 2008: aparecio 380 veces\n",
      "#3. La palabra jan: aparecio 352 veces\n",
      "#4. La palabra sakaiproject: aparecio 340 veces\n",
      "#5. La palabra org: aparecio 340 veces\n",
      "#6. La palabra from: aparecio 326 veces\n",
      "#7. La palabra by: aparecio 272 veces\n",
      "#8. La palabra collab: aparecio 270 veces\n",
      "#9. La palabra x: aparecio 258 veces\n",
      "#10. La palabra fri: aparecio 245 veces\n",
      "#11. La palabra received: aparecio 243 veces\n",
      "#12. La palabra iupui: aparecio 227 veces\n",
      "#13. La palabra 0500: aparecio 219 veces\n",
      "#14. La palabra 4: aparecio 219 veces\n",
      "#15. La palabra ac: aparecio 218 veces\n",
      "#16. La palabra umich: aparecio 218 veces\n",
      "#17. La palabra id: aparecio 217 veces\n",
      "#18. La palabra 8: aparecio 216 veces\n",
      "#19. La palabra source: aparecio 203 veces\n",
      "#20. La palabra with: aparecio 194 veces\n",
      "#21. La palabra 11: aparecio 194 veces\n",
      "#22. La palabra uk: aparecio 193 veces\n",
      "#23. La palabra uhi: aparecio 189 veces\n",
      "#24. La palabra 0: aparecio 189 veces\n",
      "#25. La palabra nakamura: aparecio 189 veces\n",
      "#26. La palabra uits: aparecio 189 veces\n",
      "#27. La palabra 12: aparecio 165 veces\n",
      "#28. La palabra java: aparecio 160 veces\n",
      "#29. La palabra src: aparecio 157 veces\n",
      "#30. La palabra tool: aparecio 148 veces\n",
      "#31. La palabra 3: aparecio 143 veces\n",
      "#32. La palabra 04: aparecio 125 veces\n",
      "#33. La palabra content: aparecio 119 veces\n",
      "#34. La palabra for: aparecio 119 veces\n",
      "#35. La palabra 1: aparecio 111 veces\n",
      "#36. La palabra mail: aparecio 108 veces\n",
      "#37. La palabra esmtp: aparecio 108 veces\n",
      "#38. La palabra paploo: aparecio 108 veces\n",
      "#39. La palabra 0000: aparecio 108 veces\n",
      "#40. La palabra dspam: aparecio 108 veces\n",
      "#41. La palabra 2: aparecio 89 veces\n",
      "#42. La palabra site: aparecio 84 veces\n",
      "#43. La palabra text: aparecio 83 veces\n",
      "#44. La palabra message: aparecio 82 veces\n",
      "#45. La palabra mr: aparecio 81 veces\n",
      "#46. La palabra itd: aparecio 81 veces\n",
      "#47. La palabra localhost: aparecio 81 veces\n",
      "#48. La palabra gmt: aparecio 81 veces\n",
      "#49. La palabra type: aparecio 81 veces\n",
      "#50. La palabra plain: aparecio 81 veces\n"
     ]
    }
   ],
   "source": [
    "# 3. Listado de las 50 palabras que más se repiten\n",
    "from collections import Counter # utilizamos collections y Counter para realizar un seguimiento de los elementos y su recuento.\n",
    "import re # Usamos este modulo para encontrar operaciones de coincidencia\n",
    "\n",
    "def obtener_palabras_mas_comunes(Texto): # Definimos la funcion con la variable texto\n",
    "    with open(Texto, 'r') as Archivo: # Definimos el archivo a abrir\n",
    "        contenido = Archivo.read() # se lee el texto  \n",
    "        palabras = re.findall(r'\\w+', contenido.lower()) # Definimos palabras utilizando el modulo el cual nos Devuelve todas las coincidencias de las palabras en minuscula \n",
    "        frecuencia = Counter(palabras) # Para la frecuencia usamos el modulo para tener un contador de las palabras\n",
    "        palabras_comunes = frecuencia.most_common(50) # Definimos la variable con una frecuencia de las 50 palabras mas comunes \n",
    "    return palabras_comunes # Nos devuelve las palabras comunes\n",
    "    \n",
    "palabras_mas_comunes = obtener_palabras_mas_comunes(\"Texto.txt\") # LLamamos la funcion con el texto deseado\n",
    "Contador = 0 # se inicia el recuento\n",
    "print(\"Listado de las 50 palabras más repetidas:\") # Imprimimos el enunciado\n",
    "for palabra, frecuencia in palabras_mas_comunes: # Para las palabras y su frecuencia en las palabras comunes imprima cada palabra y cada frecuencia\n",
    "    Contador += 1 # Sumarle 1 al contador\n",
    "    print(\"#{}. La palabra {}: aparecio {} veces\" .format(Contador, palabra, frecuencia)) # se imprime el resultado"
   ]
  },
  {
   "cell_type": "code",
   "execution_count": 78,
   "metadata": {},
   "outputs": [
    {
     "name": "stdout",
     "output_type": "stream",
     "text": [
      "Listado de destinatarios con cantidad de mensajes recibidos:\n",
      "source@collab.sakaiproject.org: 27 mensajes\n"
     ]
    }
   ],
   "source": [
    "def destinatarios_mensanjes(archivo): # Definimos la funcion con la variable texto\n",
    "   cuenta_destinatarios = {}  # Diccionario para almacenar los destinatarios y la cantidad de mensajes recibidos\n",
    "   \n",
    "   with open(archivo, 'r') as archivo_texto: # Definimos el archivo a abrir\n",
    "       for line in archivo_texto:  # con el for vamos a recorrer cada linea del texto\n",
    "           linea = line.strip()  # Definimos linea como la line con los espacios al principio y fin eliminados\n",
    "           if linea.startswith(\"To:\"): # la linea inicia con To: entonces haga\n",
    "               destinatario = linea[4:].strip()  # Definimos destinatario como la linea con el To: eliminado\n",
    "               cuenta_destinatarios[destinatario] = cuenta_destinatarios.get(destinatario, 0) + 1  # Usamos el diccionario para almacenar los destinatarios y con get nos devuelve los destinatarios\n",
    "   \n",
    "   print(\"Listado de destinatarios con cantidad de mensajes recibidos:\") # Imprimimos el enunciado \n",
    "   for destinatario, cuenta in cuenta_destinatarios.items(): # Para los destinatarios y su cuenta en la cuenta_destinatarios con el objetivo \n",
    "       print(f\"{destinatario}: {cuenta} mensajes\") # se imprime el resultado\n",
    "\n",
    "destinatarios_mensanjes(\"Texto.txt\") # LLamamos la funcion con el texto deseado"
   ]
  }
 ],
 "metadata": {
  "kernelspec": {
   "display_name": "Python 3",
   "language": "python",
   "name": "python3"
  },
  "language_info": {
   "codemirror_mode": {
    "name": "ipython",
    "version": 3
   },
   "file_extension": ".py",
   "mimetype": "text/x-python",
   "name": "python",
   "nbconvert_exporter": "python",
   "pygments_lexer": "ipython3",
   "version": "3.11.2"
  },
  "orig_nbformat": 4
 },
 "nbformat": 4,
 "nbformat_minor": 2
}
